{
 "cells": [
  {
   "cell_type": "markdown",
   "id": "c148a940-4d98-4fd1-a0b7-f2f3d56c87c4",
   "metadata": {},
   "source": [
    "# Data Science Tools & Eco System"
   ]
  },
  {
   "cell_type": "markdown",
   "id": "7c69c0c4-b4b6-442d-bca0-c7b31e31a48a",
   "metadata": {},
   "source": [
    "In this notebook, Data Science Tools and Ecosystem are summarized"
   ]
  },
  {
   "cell_type": "markdown",
   "id": "839a467a-2d7d-4bea-bdee-8fddbf039efe",
   "metadata": {},
   "source": [
    "**Objectives**\n",
    "- List popular Data Science Languages\n",
    "- Use Bold and list functions in markdown\n",
    "- Create a markdown table"
   ]
  },
  {
   "cell_type": "markdown",
   "id": "3ed146a9-a782-4830-b429-71d0ababaa45",
   "metadata": {},
   "source": [
    "Some of the popular languages that Data Scientists use are:\n",
    "- Python\n",
    "- R\n",
    "- Scala\n",
    "- Julia"
   ]
  },
  {
   "cell_type": "markdown",
   "id": "8f148916-acc1-458b-8a86-4098a255f1d6",
   "metadata": {},
   "source": [
    "Some of the commonly used libraries used by Data Scientists include:\n",
    "1. Pandas\n",
    "2. Numby\n",
    "3. Matplotlib\n",
    "4. Scikit Learn"
   ]
  },
  {
   "cell_type": "markdown",
   "id": "2ef4ecf4-48f4-4d57-a1e4-b195abb5ffff",
   "metadata": {},
   "source": [
    "|Data Science Tools|\n",
    "|------------------|\n",
    "|Rstudio|\n",
    "|Jupyternotebook|\n",
    "|Watson Studio|    "
   ]
  },
  {
   "cell_type": "markdown",
   "id": "ce8bbeec-1754-4230-9bf8-bb0a23cf5077",
   "metadata": {},
   "source": [
    "### Below are a few examples of evaluating arithmetic expressions in Python"
   ]
  },
  {
   "cell_type": "code",
   "execution_count": 5,
   "id": "d6d4d2fe-2100-4457-9f01-953cbdaf18d7",
   "metadata": {},
   "outputs": [
    {
     "data": {
      "text/plain": [
       "17"
      ]
     },
     "execution_count": 5,
     "metadata": {},
     "output_type": "execute_result"
    }
   ],
   "source": [
    "#This a simple arithmetic expression to mutiply then add integers\n",
    "(3*4)+5\n"
   ]
  },
  {
   "cell_type": "code",
   "execution_count": 6,
   "id": "36605689-bb99-435b-8098-283d59b59cb3",
   "metadata": {},
   "outputs": [
    {
     "data": {
      "text/plain": [
       "3.3333333333333335"
      ]
     },
     "execution_count": 6,
     "metadata": {},
     "output_type": "execute_result"
    }
   ],
   "source": [
    "#This will convert 200 minutes to hours by diving by 60\n",
    "200/60"
   ]
  },
  {
   "cell_type": "markdown",
   "id": "fa702ea9-1502-4fc2-ba20-2479382936cc",
   "metadata": {},
   "source": [
    "## Author\n",
    "Abdul Moiz Ali"
   ]
  },
  {
   "cell_type": "code",
   "execution_count": null,
   "id": "06266a67-2c78-4439-88e4-d64801b81955",
   "metadata": {},
   "outputs": [],
   "source": []
  }
 ],
 "metadata": {
  "kernelspec": {
   "display_name": "Python 3 (ipykernel)",
   "language": "python",
   "name": "python3"
  },
  "language_info": {
   "codemirror_mode": {
    "name": "ipython",
    "version": 3
   },
   "file_extension": ".py",
   "mimetype": "text/x-python",
   "name": "python",
   "nbconvert_exporter": "python",
   "pygments_lexer": "ipython3",
   "version": "3.11.7"
  }
 },
 "nbformat": 4,
 "nbformat_minor": 5
}
